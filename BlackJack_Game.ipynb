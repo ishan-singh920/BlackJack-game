{
  "nbformat": 4,
  "nbformat_minor": 0,
  "metadata": {
    "colab": {
      "provenance": []
    },
    "kernelspec": {
      "name": "python3",
      "display_name": "Python 3"
    },
    "language_info": {
      "name": "python"
    }
  },
  "cells": [
    {
      "cell_type": "code",
      "execution_count": null,
      "metadata": {
        "colab": {
          "base_uri": "https://localhost:8080/"
        },
        "id": "HPtZQGv1O2cJ",
        "outputId": "8e710d97-76e6-4766-8adb-1ab8a22651dd"
      },
      "outputs": [
        {
          "output_type": "stream",
          "name": "stdout",
          "text": [
            "Do you want to play a game of Blackjack? Type'y' or 'n': y\n",
            "Your cards:[7, 2],current_score:9\n",
            "Computer's first card card:8\n",
            "Type 'Y' to get another card, type 'n' to pass:y\n",
            "Your cards:[7, 2, 8],current_score:17\n",
            "Computer's first card card:8\n",
            "Type 'Y' to get another card, type 'n' to pass:n\n",
            "Your cards:[7, 2, 8],Your_score:17\n",
            "Computer cards:[8, 10],computer score=18\n",
            "You loose\n"
          ]
        }
      ],
      "source": [
        "import random\n",
        "\n",
        "\n",
        "def deal_card():\n",
        "  cards=[11,2,3,4,5,6,7,8,9,10,10,10,10]\n",
        "  card=random.choice(cards)\n",
        "  return card\n",
        "\n",
        "def calculate_score(cards):\n",
        "  if sum(cards)==21 and len(cards)==2:\n",
        "    return 0\n",
        "\n",
        "  if 11 in cards and sum(cards)>21:\n",
        "    cards.remove(11)\n",
        "    cards.append(1)\n",
        "  return sum(cards)\n",
        "\n",
        "def compare(user_score,computer_score):\n",
        "  if user_score>21 and computer_score>21:\n",
        "    return \"You went over. You lose\"\n",
        "\n",
        "  elif user_score==computer_score:\n",
        "    return \"Draw\"\n",
        "\n",
        "  elif computer_score==0:\n",
        "    return \"Loose, opponent has blackjack\"\n",
        "\n",
        "  elif user_score==0:\n",
        "    return \"Win with a blackjack\"\n",
        "\n",
        "  elif user_score>21:\n",
        "    return \"You went over, You loose\"\n",
        "\n",
        "  elif computer_score>21:\n",
        "    return \"Opponent went over, You win\"\n",
        "\n",
        "  elif user_score>computer_score:\n",
        "    return \"You win\"\n",
        "\n",
        "  else:\n",
        "    return \"You loose\"\n",
        "\n",
        "def play_game():\n",
        "\n",
        "\n",
        "  user_cards=[]\n",
        "  computer_cards=[]\n",
        "\n",
        "  for _ in range(2):\n",
        "    user_cards.append(deal_card())\n",
        "    computer_cards.append(deal_card())\n",
        "\n",
        "  while True:\n",
        "\n",
        "    user_score=calculate_score(user_cards)\n",
        "    computer_score=calculate_score(computer_cards)\n",
        "\n",
        "    print(f\"Your cards:{user_cards},current_score:{user_score}\")\n",
        "    print(f\"Computer's first card card:{computer_cards[0]}\")\n",
        "\n",
        "    if user_score==0 or computer_score==0 or user_score>21:\n",
        "      break\n",
        "\n",
        "    else:\n",
        "      user_should_deal=input(\"Type 'Y' to get another card, type 'n' to pass:\")\n",
        "\n",
        "      if user_should_deal==\"y\":\n",
        "        user_cards.append(deal_card())\n",
        "      else:\n",
        "        break\n",
        "\n",
        "  while computer_score!=0 and computer_score<17:\n",
        "    computer_cards.append(deal_card())\n",
        "    computer_score=calculate_score(computer_cards)\n",
        "\n",
        "  print(f\"Your cards:{user_cards},Your_score:{user_score}\")\n",
        "  print(f\"Computer cards:{computer_cards},computer score={computer_score}\")\n",
        "\n",
        "  print(compare(user_score, computer_score))\n",
        "\n",
        "while input(\"Do you want to play a game of Blackjack? Type'y' or 'n': \")=='y':\n",
        "    play_game()"
      ]
    }
  ]
}